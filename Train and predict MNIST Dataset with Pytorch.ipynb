{
 "cells": [
  {
   "cell_type": "code",
   "execution_count": 1,
   "metadata": {},
   "outputs": [
    {
     "name": "stdout",
     "output_type": "stream",
     "text": [
      "Collecting torch\n",
      "  Downloading torch-1.4.0-cp37-cp37m-manylinux1_x86_64.whl (753.4 MB)\n",
      "\u001b[K     |████████████████████████████████| 753.4 MB 2.9 kB/s eta 0:00:010   |█▌                              | 34.2 MB 6.1 MB/s eta 0:01:58     |█▌                              | 35.5 MB 6.1 MB/s eta 0:01:58     |██                              | 46.5 MB 497 kB/s eta 0:23:42     |██████████▌                     | 246.4 MB 6.4 MB/s eta 0:01:20     |█████████████▉                  | 324.6 MB 3.6 MB/s eta 0:01:58███▉                 | 349.1 MB 4.8 MB/s eta 0:01:24     |█████████████████▋              | 415.3 MB 5.3 MB/s eta 0:01:04[K     |██████████████████▊             | 440.4 MB 5.4 MB/s eta 0:00:59   | 451.6 MB 4.8 MB/s eta 0:01:04     |███████████████████▍            | 455.6 MB 30.7 MB/s eta 0:00:10     |████████████████████▌           | 481.6 MB 3.6 MB/s eta 0:01:15     |███████████████████████▌        | 552.0 MB 6.2 MB/s eta 0:00:33     |████████████████████████▌       | 576.4 MB 5.9 MB/s eta 0:00:30     |█████████████████████████       | 588.2 MB 5.4 MB/s eta 0:00:31��████████▋    | 649.6 MB 3.6 MB/s eta 0:00:29     |████████████████████████████▏   | 662.8 MB 2.7 MB/s eta 0:00:34     |████████████████████████████▉   | 678.2 MB 3.4 MB/s eta 0:00:22     |█████████████████████████████▏  | 687.1 MB 3.9 MB/s eta 0:00:18    |█████████████████████████████▏  | 687.9 MB 3.9 MB/s eta 0:00:17     |███████████████████████████████▊| 747.6 MB 2.8 MB/s eta 0:00:03\n",
      "\u001b[?25hCollecting torchvision\n",
      "  Downloading torchvision-0.5.0-cp37-cp37m-manylinux1_x86_64.whl (4.0 MB)\n",
      "\u001b[K     |████████████████████████████████| 4.0 MB 514 kB/s eta 0:00:01\n",
      "\u001b[?25hRequirement already satisfied: pillow>=4.1.1 in /home/umair/anaconda3/lib/python3.7/site-packages (from torchvision) (6.2.0)\n",
      "Requirement already satisfied: six in /home/umair/.local/lib/python3.7/site-packages (from torchvision) (1.14.0)\n",
      "Requirement already satisfied: numpy in /home/umair/.local/lib/python3.7/site-packages (from torchvision) (1.18.1)\n",
      "Installing collected packages: torch, torchvision\n",
      "Successfully installed torch-1.4.0 torchvision-0.5.0\n"
     ]
    }
   ],
   "source": [
    "#install pytorch\n",
    "!pip3 install torch torchvision"
   ]
  },
  {
   "cell_type": "code",
   "execution_count": 2,
   "metadata": {},
   "outputs": [],
   "source": [
    "#import libraries\n",
    "import torch\n",
    "import matplotlib.pyplot as plt\n",
    "import numpy as np\n",
    "import torch.nn.functional as F\n",
    "from torch import nn\n",
    "from torchvision import datasets, transforms"
   ]
  },
  {
   "cell_type": "code",
   "execution_count": 3,
   "metadata": {},
   "outputs": [],
   "source": [
    "device = torch.device(\"cuda:0\" if torch.cuda.is_available() else \"cpu\")"
   ]
  },
  {
   "cell_type": "code",
   "execution_count": 4,
   "metadata": {},
   "outputs": [
    {
     "name": "stdout",
     "output_type": "stream",
     "text": [
      "Downloading http://yann.lecun.com/exdb/mnist/train-images-idx3-ubyte.gz to ./data/MNIST/raw/train-images-idx3-ubyte.gz\n"
     ]
    },
    {
     "data": {
      "application/vnd.jupyter.widget-view+json": {
       "model_id": "25d937d0da2947b2820dfa3e24184e59",
       "version_major": 2,
       "version_minor": 0
      },
      "text/plain": [
       "HBox(children=(IntProgress(value=1, bar_style='info', max=1), HTML(value='')))"
      ]
     },
     "metadata": {},
     "output_type": "display_data"
    },
    {
     "name": "stdout",
     "output_type": "stream",
     "text": [
      "Extracting ./data/MNIST/raw/train-images-idx3-ubyte.gz to ./data/MNIST/raw\n",
      "Downloading http://yann.lecun.com/exdb/mnist/train-labels-idx1-ubyte.gz to ./data/MNIST/raw/train-labels-idx1-ubyte.gz\n"
     ]
    },
    {
     "data": {
      "application/vnd.jupyter.widget-view+json": {
       "model_id": "4961b0fc5f804694bbe7b324b21d156d",
       "version_major": 2,
       "version_minor": 0
      },
      "text/plain": [
       "HBox(children=(IntProgress(value=1, bar_style='info', max=1), HTML(value='')))"
      ]
     },
     "metadata": {},
     "output_type": "display_data"
    },
    {
     "name": "stdout",
     "output_type": "stream",
     "text": [
      "Extracting ./data/MNIST/raw/train-labels-idx1-ubyte.gz to ./data/MNIST/raw\n",
      "Downloading http://yann.lecun.com/exdb/mnist/t10k-images-idx3-ubyte.gz to ./data/MNIST/raw/t10k-images-idx3-ubyte.gz\n"
     ]
    },
    {
     "data": {
      "application/vnd.jupyter.widget-view+json": {
       "model_id": "105bce5e06154ad9afb8dc5bb27e1c04",
       "version_major": 2,
       "version_minor": 0
      },
      "text/plain": [
       "HBox(children=(IntProgress(value=1, bar_style='info', max=1), HTML(value='')))"
      ]
     },
     "metadata": {},
     "output_type": "display_data"
    },
    {
     "name": "stdout",
     "output_type": "stream",
     "text": [
      "Extracting ./data/MNIST/raw/t10k-images-idx3-ubyte.gz to ./data/MNIST/raw\n",
      "Downloading http://yann.lecun.com/exdb/mnist/t10k-labels-idx1-ubyte.gz to ./data/MNIST/raw/t10k-labels-idx1-ubyte.gz\n",
      "\n",
      "\n"
     ]
    },
    {
     "data": {
      "application/vnd.jupyter.widget-view+json": {
       "model_id": "a580ecef1d1c4eb6ae82839e8cecf7ac",
       "version_major": 2,
       "version_minor": 0
      },
      "text/plain": [
       "HBox(children=(IntProgress(value=1, bar_style='info', max=1), HTML(value='')))"
      ]
     },
     "metadata": {},
     "output_type": "display_data"
    },
    {
     "name": "stdout",
     "output_type": "stream",
     "text": [
      "Extracting ./data/MNIST/raw/t10k-labels-idx1-ubyte.gz to ./data/MNIST/raw\n",
      "Processing...\n",
      "Done!\n"
     ]
    }
   ],
   "source": [
    "#resize and and normalize images\n",
    "transform = transforms.Compose([transforms.Resize((28,28)),\n",
    "                               transforms.ToTensor(),\n",
    "                               transforms.Normalize((0.5,), (0.5,))\n",
    "                               ])\n",
    "#download data\n",
    "training_dataset = datasets.MNIST(root='./data', train=True, download=True, transform=transform)\n",
    "validation_dataset = datasets.MNIST(root='./data', train=False, download=True, transform=transform)\n",
    "#load data\n",
    "training_loader = torch.utils.data.DataLoader(training_dataset, batch_size=100, shuffle=True)\n",
    "validation_loader = torch.utils.data.DataLoader(validation_dataset, batch_size = 100, shuffle=False)"
   ]
  },
  {
   "cell_type": "code",
   "execution_count": 5,
   "metadata": {},
   "outputs": [],
   "source": [
    "def im_convert(tensor):\n",
    "  image = tensor.cpu().clone().detach().numpy()\n",
    "  image = image.transpose(1, 2, 0)\n",
    "  image = image * np.array((0.5, 0.5, 0.5)) + np.array((0.5, 0.5, 0.5))\n",
    "  image = image.clip(0, 1)\n",
    "  return image"
   ]
  },
  {
   "cell_type": "code",
   "execution_count": 6,
   "metadata": {},
   "outputs": [
    {
     "data": {
      "image/png": "[encoded data removed]",
      "text/plain": [
       "<Figure size 1800x288 with 20 Axes>"
      ]
     },
     "metadata": {},
     "output_type": "display_data"
    }
   ],
   "source": [
    "#plotting images with tag\n",
    "dataiter = iter(training_loader)\n",
    "images, labels = dataiter.next()\n",
    "fig = plt.figure(figsize=(25, 4))\n",
    "\n",
    "for idx in np.arange(20):\n",
    "  ax = fig.add_subplot(2, 10, idx+1, xticks=[], yticks=[])\n",
    "  plt.imshow(im_convert(images[idx]))\n",
    "  ax.set_title([labels[idx].item()])"
   ]
  },
  {
   "cell_type": "code",
   "execution_count": 7,
   "metadata": {},
   "outputs": [],
   "source": [
    "#make model\n",
    "class LeNet(nn.Module):\n",
    "    def __init__(self):\n",
    "      super().__init__()\n",
    "      self.conv1 = nn.Conv2d(1, 20, 5, 1)\n",
    "      self.conv2 = nn.Conv2d(20, 50, 5, 1)\n",
    "      self.fc1 = nn.Linear(4*4*50, 500)\n",
    "      self.dropout1 = nn.Dropout(0.5)\n",
    "      self.fc2 = nn.Linear(500, 10)\n",
    "    def forward(self, x):\n",
    "      x = F.relu(self.conv1(x))\n",
    "      x = F.max_pool2d(x, 2, 2)\n",
    "      x = F.relu(self.conv2(x))\n",
    "      x = F.max_pool2d(x, 2, 2)\n",
    "      x = x.view(-1, 4*4*50)\n",
    "      x = F.relu(self.fc1(x))\n",
    "      x = self.dropout1(x)\n",
    "      x = self.fc2(x)\n",
    "      return x"
   ]
  },
  {
   "cell_type": "code",
   "execution_count": 8,
   "metadata": {},
   "outputs": [
    {
     "data": {
      "text/plain": [
       "LeNet(\n",
       "  (conv1): Conv2d(1, 20, kernel_size=(5, 5), stride=(1, 1))\n",
       "  (conv2): Conv2d(20, 50, kernel_size=(5, 5), stride=(1, 1))\n",
       "  (fc1): Linear(in_features=800, out_features=500, bias=True)\n",
       "  (dropout1): Dropout(p=0.5, inplace=False)\n",
       "  (fc2): Linear(in_features=500, out_features=10, bias=True)\n",
       ")"
      ]
     },
     "execution_count": 8,
     "metadata": {},
     "output_type": "execute_result"
    }
   ],
   "source": [
    "model = LeNet().to(device)\n",
    "model"
   ]
  },
  {
   "cell_type": "code",
   "execution_count": 9,
   "metadata": {},
   "outputs": [],
   "source": [
    "#compile model\n",
    "criterion = nn.CrossEntropyLoss()\n",
    "optimizer = torch.optim.Adam(model.parameters(), lr = 0.0001)"
   ]
  },
  {
   "cell_type": "code",
   "execution_count": 10,
   "metadata": {},
   "outputs": [
    {
     "name": "stdout",
     "output_type": "stream",
     "text": [
      "epoch : 1\n",
      "training loss: 0.5767, acc 84.4767 \n",
      "validation loss: 0.1775, validation acc 94.7300 \n",
      "epoch : 2\n",
      "training loss: 0.1497, acc 95.6183 \n",
      "validation loss: 0.1060, validation acc 96.7800 \n",
      "epoch : 3\n",
      "training loss: 0.1003, acc 96.9667 \n",
      "validation loss: 0.0740, validation acc 97.6400 \n",
      "epoch : 4\n",
      "training loss: 0.0763, acc 97.6683 \n",
      "validation loss: 0.0623, validation acc 98.0700 \n",
      "epoch : 5\n",
      "training loss: 0.0652, acc 98.0667 \n",
      "validation loss: 0.0526, validation acc 98.2600 \n",
      "epoch : 6\n",
      "training loss: 0.0546, acc 98.3383 \n",
      "validation loss: 0.0452, validation acc 98.5500 \n",
      "epoch : 7\n",
      "training loss: 0.0493, acc 98.5067 \n",
      "validation loss: 0.0423, validation acc 98.7500 \n",
      "epoch : 8\n",
      "training loss: 0.0438, acc 98.7117 \n",
      "validation loss: 0.0381, validation acc 98.7400 \n",
      "epoch : 9\n",
      "training loss: 0.0395, acc 98.8300 \n",
      "validation loss: 0.0380, validation acc 98.8100 \n",
      "epoch : 10\n",
      "training loss: 0.0361, acc 98.9217 \n",
      "validation loss: 0.0344, validation acc 98.8100 \n",
      "epoch : 11\n",
      "training loss: 0.0335, acc 98.9283 \n",
      "validation loss: 0.0335, validation acc 99.0200 \n",
      "epoch : 12\n",
      "training loss: 0.0305, acc 99.0733 \n",
      "validation loss: 0.0320, validation acc 99.0100 \n",
      "epoch : 13\n",
      "training loss: 0.0278, acc 99.1617 \n",
      "validation loss: 0.0308, validation acc 99.0100 \n",
      "epoch : 14\n",
      "training loss: 0.0268, acc 99.1850 \n",
      "validation loss: 0.0304, validation acc 99.0700 \n",
      "epoch : 15\n",
      "training loss: 0.0248, acc 99.2133 \n",
      "validation loss: 0.0299, validation acc 99.0200 \n"
     ]
    }
   ],
   "source": [
    "#train model\n",
    "epochs = 15\n",
    "running_loss_history = []\n",
    "running_corrects_history = []\n",
    "val_running_loss_history = []\n",
    "val_running_corrects_history = []\n",
    "\n",
    "for e in range(epochs):\n",
    "  \n",
    "  running_loss = 0.0\n",
    "  running_corrects = 0.0\n",
    "  val_running_loss = 0.0\n",
    "  val_running_corrects = 0.0\n",
    "  \n",
    "  for inputs, labels in training_loader:\n",
    "    inputs = inputs.to(device)\n",
    "    labels = labels.to(device)\n",
    "    outputs = model(inputs)\n",
    "    loss = criterion(outputs, labels)\n",
    "    \n",
    "    optimizer.zero_grad()\n",
    "    loss.backward()\n",
    "    optimizer.step()\n",
    "    \n",
    "    _, preds = torch.max(outputs, 1)\n",
    "    running_loss += loss.item()\n",
    "    running_corrects += torch.sum(preds == labels.data)\n",
    "\n",
    "  else:\n",
    "    with torch.no_grad():\n",
    "      for val_inputs, val_labels in validation_loader:\n",
    "        val_inputs = val_inputs.to(device)\n",
    "        val_labels = val_labels.to(device)\n",
    "        val_outputs = model(val_inputs)\n",
    "        val_loss = criterion(val_outputs, val_labels)\n",
    "        \n",
    "        _, val_preds = torch.max(val_outputs, 1)\n",
    "        val_running_loss += val_loss.item()\n",
    "        val_running_corrects += torch.sum(val_preds == val_labels.data)\n",
    "      \n",
    "    epoch_loss = running_loss/len(training_loader)\n",
    "    epoch_acc = running_corrects.float()/ len(training_loader)\n",
    "    running_loss_history.append(epoch_loss)\n",
    "    running_corrects_history.append(epoch_acc)\n",
    "    \n",
    "    val_epoch_loss = val_running_loss/len(validation_loader)\n",
    "    val_epoch_acc = val_running_corrects.float()/ len(validation_loader)\n",
    "    val_running_loss_history.append(val_epoch_loss)\n",
    "    val_running_corrects_history.append(val_epoch_acc)\n",
    "    print('epoch :', (e+1))\n",
    "    print('training loss: {:.4f}, acc {:.4f} '.format(epoch_loss, epoch_acc.item()))\n",
    "    print('validation loss: {:.4f}, validation acc {:.4f} '.format(val_epoch_loss, val_epoch_acc.item()))"
   ]
  },
  {
   "cell_type": "code",
   "execution_count": 11,
   "metadata": {},
   "outputs": [
    {
     "data": {
      "text/plain": [
       "<matplotlib.legend.Legend at 0x7f45b937e610>"
      ]
     },
     "execution_count": 11,
     "metadata": {},
     "output_type": "execute_result"
    },
    {
     "data": {
      "image/png": "[encoded data removed]",
      "text/plain": [
       "<Figure size 432x288 with 1 Axes>"
      ]
     },
     "metadata": {
      "needs_background": "light"
     },
     "output_type": "display_data"
    }
   ],
   "source": [
    "#plot training and validation loss\n",
    "plt.plot(running_loss_history, label='training loss')\n",
    "plt.plot(val_running_loss_history, label='validation loss')\n",
    "plt.legend()"
   ]
  },
  {
   "cell_type": "code",
   "execution_count": 12,
   "metadata": {},
   "outputs": [
    {
     "data": {
      "text/plain": [
       "<matplotlib.legend.Legend at 0x7f45b94054d0>"
      ]
     },
     "execution_count": 12,
     "metadata": {},
     "output_type": "execute_result"
    },
    {
     "data": {
      "image/png": "[encoded data removed]",
      "text/plain": [
       "<Figure size 432x288 with 1 Axes>"
      ]
     },
     "metadata": {
      "needs_background": "light"
     },
     "output_type": "display_data"
    }
   ],
   "source": [
    "#plot training and validation accuracy\n",
    "plt.plot(running_corrects_history, label='training accuracy')\n",
    "plt.plot(val_running_corrects_history, label='validation accuracy')\n",
    "plt.legend()"
   ]
  },
  {
   "cell_type": "code",
   "execution_count": 13,
   "metadata": {},
   "outputs": [
    {
     "name": "stdout",
     "output_type": "stream",
     "text": [
      "Collecting pillow==4.0.0\n",
      "  Downloading Pillow-4.0.0.tar.gz (11.1 MB)\n",
      "\u001b[K     |████████████████████████████████| 11.1 MB 2.8 MB/s eta 0:00:01\n",
      "\u001b[?25hRequirement already satisfied: olefile in /home/umair/anaconda3/lib/python3.7/site-packages (from pillow==4.0.0) (0.46)\n",
      "Building wheels for collected packages: pillow\n",
      "  Building wheel for pillow (setup.py) ... \u001b[?25ldone\n",
      "\u001b[?25h  Created wheel for pillow: filename=Pillow-4.0.0-cp37-cp37m-linux_x86_64.whl size=471743 sha256=1191f4edbe97e9fa421b9ee04265d99edda95e31ddbb772cdb710f55865772b0\n",
      "  Stored in directory: /home/umair/.cache/pip/wheels/ec/1e/24/dbc5e4964ea99cad93230a9013d934fb5adc322c3102f69e45\n",
      "Successfully built pillow\n",
      "\u001b[31mERROR: torchvision 0.5.0 has requirement pillow>=4.1.1, but you'll have pillow 4.0.0 which is incompatible.\u001b[0m\n",
      "\u001b[31mERROR: scikit-image 0.15.0 has requirement pillow>=4.3.0, but you'll have pillow 4.0.0 which is incompatible.\u001b[0m\n",
      "Installing collected packages: pillow\n",
      "  Attempting uninstall: pillow\n",
      "    Found existing installation: Pillow 6.2.0\n",
      "    Uninstalling Pillow-6.2.0:\n",
      "      Successfully uninstalled Pillow-6.2.0\n",
      "Successfully installed pillow-4.0.0\n"
     ]
    }
   ],
   "source": [
    "#download pillow\n",
    "!pip3 install pillow==4.0.0"
   ]
  },
  {
   "cell_type": "code",
   "execution_count": 20,
   "metadata": {},
   "outputs": [
    {
     "name": "stdout",
     "output_type": "stream",
     "text": [
      "Populating the interactive namespace from numpy and matplotlib\n"
     ]
    },
    {
     "name": "stderr",
     "output_type": "stream",
     "text": [
      "/home/umair/anaconda3/lib/python3.7/site-packages/IPython/core/magics/pylab.py:160: UserWarning: pylab import has clobbered these variables: ['e']\n",
      "`%matplotlib` prevents importing * from pylab and numpy\n",
      "  \"\\n`%matplotlib` prevents importing * from pylab and numpy\"\n"
     ]
    },
    {
     "data": {
      "text/plain": [
       "<matplotlib.image.AxesImage at 0x7f45adf974d0>"
      ]
     },
     "execution_count": 20,
     "metadata": {},
     "output_type": "execute_result"
    },
    {
     "data": {
      "image/png": "[encoded data removed]",
      "text/plain": [
       "<Figure size 432x288 with 1 Axes>"
      ]
     },
     "metadata": {
      "needs_background": "light"
     },
     "output_type": "display_data"
    }
   ],
   "source": [
    "#plot an image of digit\n",
    "%pylab inline\n",
    "import matplotlib.image as mpimg\n",
    "img=mpimg.imread('5.png')\n",
    "plt.imshow(img)"
   ]
  },
  {
   "cell_type": "code",
   "execution_count": 32,
   "metadata": {},
   "outputs": [
    {
     "data": {
      "text/plain": [
       "<matplotlib.image.AxesImage at 0x7f45adf89410>"
      ]
     },
     "execution_count": 32,
     "metadata": {},
     "output_type": "execute_result"
    },
    {
     "data": {
      "image/png": "[encoded data removed]",
      "text/plain": [
       "<Figure size 432x288 with 1 Axes>"
      ]
     },
     "metadata": {
      "needs_background": "light"
     },
     "output_type": "display_data"
    }
   ],
   "source": [
    "# convert image like handwritten\n",
    "import PIL.ImageOps\n",
    "from PIL import Image\n",
    "img = img.convert('RGB')\n",
    "img = PIL.ImageOps.invert(img)\n",
    "img = img.convert('1')\n",
    "img = transform(img) \n",
    "plt.imshow(im_convert(img))"
   ]
  },
  {
   "cell_type": "code",
   "execution_count": 33,
   "metadata": {},
   "outputs": [
    {
     "name": "stdout",
     "output_type": "stream",
     "text": [
      "5\n"
     ]
    }
   ],
   "source": [
    "#pridict img with model\n",
    "images = img.to(device)\n",
    "image = images[0].unsqueeze(0).unsqueeze(0)\n",
    "output = model(image)\n",
    "_, pred = torch.max(output, 1)\n",
    "print(pred.item())"
   ]
  },
  {
   "cell_type": "code",
   "execution_count": 36,
   "metadata": {},
   "outputs": [
    {
     "data": {
      "image/png": "[encoded data removed]",
      "text/plain": [
       "<Figure size 720x288 with 20 Axes>"
      ]
     },
     "metadata": {},
     "output_type": "display_data"
    }
   ],
   "source": [
    "#predict random 20 images\n",
    "dataiter = iter(validation_loader)\n",
    "images, labels = dataiter.next()\n",
    "images = images.to(device)\n",
    "labels = labels.to(device)\n",
    "output = model(images)\n",
    "_, preds = torch.max(output, 1)\n",
    "\n",
    "fig = plt.figure(figsize=(10, 4))\n",
    "\n",
    "for idx in np.arange(20):\n",
    "  ax = fig.add_subplot(2, 10, idx+1, xticks=[], yticks=[])\n",
    "  plt.imshow(im_convert(images[idx]))\n",
    "  ax.set_title(\"{} ({})\".format(str(preds[idx].item()), str(labels[idx].item())), color=(\"green\" if preds[idx]==labels[idx] else \"red\"))"
   ]
  },
  {
   "cell_type": "code",
   "execution_count": null,
   "metadata": {},
   "outputs": [],
   "source": []
  }
 ],
 "metadata": {
  "kernelspec": {
   "display_name": "Python 3",
   "language": "python",
   "name": "python3"
  },
  "language_info": {
   "codemirror_mode": {
    "name": "ipython",
    "version": 3
   },
   "file_extension": ".py",
   "mimetype": "text/x-python",
   "name": "python",
   "nbconvert_exporter": "python",
   "pygments_lexer": "ipython3",
   "version": "3.7.4"
  }
 },
 "nbformat": 4,
 "nbformat_minor": 2
}
